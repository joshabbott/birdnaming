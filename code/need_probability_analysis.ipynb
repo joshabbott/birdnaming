{
 "cells": [
  {
   "cell_type": "markdown",
   "metadata": {},
   "source": [
    "# Analyzing bird observation frequencies as need probabilities in informative communication"
   ]
  },
  {
   "cell_type": "code",
   "execution_count": 2,
   "metadata": {},
   "outputs": [],
   "source": [
    "import pandas as pd\n",
    "import numpy as np\n",
    "import matplotlib.pyplot as plt\n",
    "import math\n",
    "import random"
   ]
  },
  {
   "cell_type": "code",
   "execution_count": 3,
   "metadata": {},
   "outputs": [],
   "source": [
    "# functions for creating a similarity matrix\n",
    "def EuclideanDist(x,y):   \n",
    "    return np.sqrt(np.sum((x-y)**2))\n",
    "\n",
    "\n",
    "def createSimMatrix(bird_list,hummingbird_pcs,c=0.1):\n",
    "\tsim = {}\n",
    "\tfor i in bird_list:\n",
    "\t\tsim[i] = {}\n",
    "\t\tfor j in bird_list:\n",
    "\t\t\tbird_distsq = EuclideanDist(hummingbird_pcs[i],hummingbird_pcs[j])**2.0\n",
    "\n",
    "\t\t\tsim[i][j] = math.exp(-c*bird_distsq)\n",
    "\n",
    "\treturn sim"
   ]
  },
  {
   "cell_type": "code",
   "execution_count": 4,
   "metadata": {},
   "outputs": [],
   "source": [
    "# here we use the exact same ERE code that was shared between me, Terry, Yang, and Noga for color.\n",
    "def ERE(lmap,sim,need):\n",
    "    \"\"\"\n",
    "    compute Expected Reconstruction Error for an entire categorical partitioning of the color domain.  \n",
    "    we are given \n",
    "    lmap (a dict containing a label for each chip in the map), \n",
    "    sim (a dict of dicts holding a matrix of similarities between each pair of chips i and j), and \n",
    "    need (a dict containing need probabilities for each chip), \n",
    "    \"\"\"\n",
    "    # get your bearings - basic info.\n",
    "    cnum_list = list(lmap.keys())  # list of chips\n",
    "    all_cats = set(lmap.values())  # all categories in lmap\n",
    "    \n",
    "    # Compute listener distribution for each cat, given current lmap.\n",
    "    # NB: a clean way to think of this is: for each cat, for each chip j\n",
    "    # labeled by that cat, we find the sim of that chip to *each* chip i\n",
    "    # in the entire grid - and we sum those sims across chips j to yield\n",
    "    # a non-normalized distrib across all chips i - i.e. the sum at each\n",
    "    # chip i will hold the sum across all j of sim(i,j).  we then normalize \n",
    "    # across all chips i.  then repeat for other cats.  then get E.\n",
    "    ld = {}  # listener distribs, indexed by category\n",
    "\n",
    "    for cat in all_cats:\n",
    "        ld[cat] = {chip: 0.0 for chip in cnum_list}\n",
    "        cat_chipnums = [i for i,x in lmap.items() if x == cat]\n",
    "        for i in cnum_list:\n",
    "            ld[cat][i] = np.sum([sim[i][chip_j] for chip_j in cat_chipnums])\n",
    "        # normalize\n",
    "        cat_sum = np.sum(list(ld[cat].values()))\n",
    "        for i in cnum_list:\n",
    "            # print(\"ld cat i: \", ld[cat][i], cat_sum)\n",
    "            ld[cat][i] /= cat_sum\n",
    "\n",
    "\n",
    "    # now pull this together into ERE.\n",
    "    E = 0.0\n",
    "    for chip_i in cnum_list:\n",
    "        E += need[chip_i]*(-1.0*np.log2(ld[lmap[chip_i]][chip_i]))\n",
    "\n",
    "    return(E)"
   ]
  },
  {
   "cell_type": "code",
   "execution_count": 5,
   "metadata": {},
   "outputs": [],
   "source": [
    "# a custom function to shuffle labels and compute ERE on those shuffles\n",
    "def computeRandomShuffles(bird_list,bird_labels,simMatrix,need_probs):\n",
    "\n",
    "\tnum_shuffles = 5\n",
    "\n",
    "\tlmap_rand = {}\n",
    "\tevalue_rand = {}\n",
    "\tfor i in range(num_shuffles):\n",
    "\t\t# shuffle labels and recompute E\n",
    "\t\t# print(i)\n",
    "\t\trandom.shuffle(bird_labels)\n",
    "\t\t# print(bird_labels)\n",
    "\n",
    "\t\tlmap_rand[i] = {}\n",
    "\t\tj=0\n",
    "\t\tfor bird in bird_list:\n",
    "\t\t\tlmap_rand[i][bird] = bird_labels[j]\n",
    "\t\t\tj+=1\n",
    "\t\t# print(lmap_rand[i])\n",
    "\t\tevalue_rand[i] = ERE(lmap_rand[i],simMatrix,need_probs)\n",
    "\t\t# print(\"Uniform need probs (RAND): \", evalue_rand[i])\n",
    "\n",
    "\treturn evalue_rand"
   ]
  },
  {
   "cell_type": "code",
   "execution_count": 7,
   "metadata": {},
   "outputs": [],
   "source": [
    "# main function to analyse need probabilities and compute informativeness on a set of birds\n",
    "def run_informativeness_on_basic_level(birds):\n",
    "\n",
    "    # make dictionary of birds->PC feature vector\n",
    "\tbird_pcs = {}\n",
    "\tfor bird in birds:\n",
    "\t\tbird_features = np.array(pc_data[['PC1', 'PC2', 'PC3', 'PC4', 'PC5', 'PC6', 'PC7', 'PC8','PC9']][pc_data['Binomial'] == bird.replace(' ','_')])\n",
    "\t\tif len(bird_features) > 0:\n",
    "\t\t\tbird_pcs[bird] = bird_features\n",
    "\n",
    "    # make master bird list of birds and features\n",
    "\tbird_list = list(bird_pcs.keys())\n",
    "\n",
    "    # create similarity matrix using the main bird list and associated feature matrix (a dictionary of PC vectors)\n",
    "\tsimMatrix = createSimMatrix(bird_list,bird_pcs)\n",
    "\n",
    "    \n",
    "\t# get bird folk specific labels\n",
    "\tbird_labels = []\n",
    "\tfor bird in bird_list:\n",
    "\t\tbird_labels.append(list(df[df['species'] == bird]['folk_specific'])[0])\n",
    "\tbird_labels_orig = bird_labels\n",
    "\n",
    "\t# make label mapping dictionary\n",
    "\tlmap = {}\n",
    "\ti=0\n",
    "\tfor bird in bird_list:\n",
    "\t\tlmap[bird] = bird_labels_orig[i]\n",
    "\t\ti+=1\n",
    "\n",
    "        \n",
    "    #\n",
    "    # ANALYZE UNIFORM NEED PROBILITIES\n",
    "    #\n",
    "    \n",
    "\t# create need probs with uniform distribution\n",
    "\tuniform_need_probs = {bird: (1.0/len(bird_list)) for bird in bird_list}\n",
    "\n",
    "\t# compute ERE with uniform need probs\n",
    "\tevalue = ERE(lmap,simMatrix,uniform_need_probs)\n",
    "\tprint(\"Uniform need probs (Zapotec birds): \"+\"{:.4f}\".format(evalue))\n",
    "\n",
    "\t# shuffle labels and recompute E\n",
    "\tevalue_rands_uniform = computeRandomShuffles(bird_list,bird_labels,simMatrix,uniform_need_probs)\n",
    "\tprint(\"RAND shuffle with uniform need probs: \")\n",
    "\tfor i in evalue_rands_uniform.keys():\n",
    "\t\tprint(\"\"+\"{:.4f}\".format(evalue_rands_uniform[i]))\n",
    "    \n",
    "    \n",
    "    #\n",
    "    # ANALYZE BIRD FREQUENCY NEED PROBILITIES\n",
    "    #   \n",
    "    \n",
    "\t# create need probs with ebird relative freqs\n",
    "\tfreq_need_probs = {}\n",
    "\tfor bird in bird_list:\n",
    "\t\tfreq_need_probs[bird] = float(df[df['species'] == bird]['freq'])\n",
    "\tfreq_sum = np.sum(list(freq_need_probs.values()))\n",
    "\n",
    "\tfor bird in bird_list:\n",
    "\t\tfreq_need_probs[bird] = freq_need_probs[bird]/freq_sum\n",
    "\n",
    "\t# compute ERE with freq need probs\n",
    "\tevalue_freq = ERE(lmap,simMatrix,freq_need_probs)\n",
    "\tprint(\"Freq need probs (Zapotec birds): \"+\"{:.4f}\".format(evalue_freq))\n",
    "\n",
    "\t# shuffle labels and recompute E \n",
    "\tevalue_rands_freq = computeRandomShuffles(bird_list,bird_labels,simMatrix,freq_need_probs)\n",
    "\tprint(\"RAND shuffle with freq need probs: \")\n",
    "\tfor i in evalue_rands_freq.keys():\n",
    "\t\tprint(\"\"+\"{:.4f}\".format(evalue_rands_freq[i]))"
   ]
  },
  {
   "cell_type": "markdown",
   "metadata": {},
   "source": [
    "## Main analyses"
   ]
  },
  {
   "cell_type": "code",
   "execution_count": 8,
   "metadata": {},
   "outputs": [],
   "source": [
    "# load data\n",
    "zapotec_data_all = pd.read_csv('./data/df_zapotec.csv')\n",
    "df = zapotec_data_all[zapotec_data_all['folk_generic'].notna()] \n",
    "# use new dataset\n",
    "pc_data = pd.read_csv('./data/41559_2019_1070_MOESM3_ESM.csv')"
   ]
  },
  {
   "cell_type": "code",
   "execution_count": 20,
   "metadata": {},
   "outputs": [
    {
     "name": "stdout",
     "output_type": "stream",
     "text": [
      "\n",
      "hummingbirds\n",
      "Uniform need probs (Zapotec birds): 3.6418\n",
      "RAND shuffle with uniform need probs: \n",
      "3.6360\n",
      "3.6813\n",
      "3.6441\n",
      "3.6595\n",
      "3.6216\n",
      "Freq need probs (Zapotec birds): 3.6379\n",
      "RAND shuffle with freq need probs: \n",
      "3.6245\n",
      "3.6251\n",
      "3.6419\n",
      "3.6664\n",
      "3.6413\n"
     ]
    }
   ],
   "source": [
    "print(\"\\nhummingbirds\")\n",
    "hummingbirds = list(df[df['folk_generic'] == 'dzǐn̲g']['species'])\n",
    "run_informativeness_on_basic_level(hummingbirds)"
   ]
  },
  {
   "cell_type": "code",
   "execution_count": 18,
   "metadata": {},
   "outputs": [
    {
     "name": "stdout",
     "output_type": "stream",
     "text": [
      "\n",
      "hawks\n",
      "Uniform need probs (Zapotec birds): 2.6877\n",
      "RAND shuffle with uniform need probs: \n",
      "2.7641\n",
      "2.7628\n",
      "2.7713\n",
      "2.6846\n",
      "2.7355\n",
      "Freq need probs (Zapotec birds): 2.6889\n",
      "RAND shuffle with freq need probs: \n",
      "2.7443\n",
      "2.7497\n",
      "2.6835\n",
      "2.7186\n",
      "2.7079\n"
     ]
    }
   ],
   "source": [
    "print(\"\\nhawks\")\n",
    "hawk_birds = list(df[df['folk_generic'] == 'msì']['species'])\n",
    "run_informativeness_on_basic_level(hawk_birds)"
   ]
  },
  {
   "cell_type": "code",
   "execution_count": null,
   "metadata": {},
   "outputs": [],
   "source": []
  },
  {
   "cell_type": "code",
   "execution_count": null,
   "metadata": {},
   "outputs": [],
   "source": []
  },
  {
   "cell_type": "code",
   "execution_count": null,
   "metadata": {},
   "outputs": [],
   "source": []
  }
 ],
 "metadata": {
  "kernelspec": {
   "display_name": "Python 3",
   "language": "python",
   "name": "python3"
  },
  "language_info": {
   "codemirror_mode": {
    "name": "ipython",
    "version": 3
   },
   "file_extension": ".py",
   "mimetype": "text/x-python",
   "name": "python",
   "nbconvert_exporter": "python",
   "pygments_lexer": "ipython3",
   "version": "3.6.9"
  }
 },
 "nbformat": 4,
 "nbformat_minor": 2
}
