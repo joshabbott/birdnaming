{
 "cells": [
  {
   "cell_type": "markdown",
   "metadata": {},
   "source": [
    "# Analyzing PCA dimensions of birds"
   ]
  },
  {
   "cell_type": "code",
   "execution_count": 1,
   "metadata": {},
   "outputs": [],
   "source": [
    "import pandas as pd\n",
    "import numpy as np\n",
    "import matplotlib.pyplot as plt"
   ]
  },
  {
   "cell_type": "code",
   "execution_count": 3,
   "metadata": {},
   "outputs": [
    {
     "name": "stdout",
     "output_type": "stream",
     "text": [
      "Poecile sclateri\n",
      "Mareca americana\n",
      "Haemorhous mexicanus\n",
      "Caprimulgus arizonae\n",
      "Oreothlypis superciliosa\n",
      "Melozone albicollis\n",
      "Spinus notatus\n",
      "Centurus hypopolius\n",
      "Cypseloides rutilus\n",
      "Spatula discors\n",
      "Cardellina pusilla\n",
      "Ciccaba virgata\n",
      "Dryobates villosus\n",
      "Amazilia wagneri\n",
      "Setophaga townsendi\n",
      "Hirundo pyrrhonota\n",
      "Ptiliogonys cinereus\n"
     ]
    }
   ],
   "source": [
    "zapotec_data_all = pd.read_csv('./data/df_zapotec.csv')\n",
    "df = zapotec_data_all[zapotec_data_all['folk_generic'].notna()] \n",
    "\n",
    "# PCA data from (Pigot et al., 2020)\n",
    "pc_data = pd.read_csv('./data/41559_2019_1070_MOESM3_ESM.csv') \n",
    "\n",
    "zapotec_species = list(df['species']) \n",
    "zapotec_pc1 = []\n",
    "zapotec_pc2 = []\n",
    "zapotec_pc3 = []\n",
    "zapotec_pc4 = []\n",
    "zapotec_pc5 = []\n",
    "zapotec_pc6 = []\n",
    "zapotec_pc7 = []\n",
    "zapotec_pc8 = []\n",
    "zapotec_pc9 = []\n",
    "\n",
    "for bird in zapotec_species:\n",
    "\ttry:\n",
    "\t\tzapotec_pc1.append(np.array(pc_data['PC1'][pc_data['Binomial'] == bird.replace(' ','_')])[0])\n",
    "\t\tzapotec_pc2.append(np.array(pc_data['PC2'][pc_data['Binomial'] == bird.replace(' ','_')])[0]) \n",
    "\t\tzapotec_pc3.append(np.array(pc_data['PC3'][pc_data['Binomial'] == bird.replace(' ','_')])[0]) \n",
    "\t\tzapotec_pc4.append(np.array(pc_data['PC4'][pc_data['Binomial'] == bird.replace(' ','_')])[0]) \n",
    "\t\tzapotec_pc5.append(np.array(pc_data['PC5'][pc_data['Binomial'] == bird.replace(' ','_')])[0]) \n",
    "\t\tzapotec_pc6.append(np.array(pc_data['PC6'][pc_data['Binomial'] == bird.replace(' ','_')])[0]) \n",
    "\t\tzapotec_pc7.append(np.array(pc_data['PC7'][pc_data['Binomial'] == bird.replace(' ','_')])[0]) \n",
    "\t\tzapotec_pc8.append(np.array(pc_data['PC8'][pc_data['Binomial'] == bird.replace(' ','_')])[0]) \n",
    "\t\tzapotec_pc9.append(np.array(pc_data['PC9'][pc_data['Binomial'] == bird.replace(' ','_')])[0])\n",
    "\texcept:\n",
    "\t\tprint(bird) "
   ]
  },
  {
   "cell_type": "code",
   "execution_count": null,
   "metadata": {},
   "outputs": [],
   "source": []
  }
 ],
 "metadata": {
  "kernelspec": {
   "display_name": "Python 3",
   "language": "python",
   "name": "python3"
  },
  "language_info": {
   "codemirror_mode": {
    "name": "ipython",
    "version": 3
   },
   "file_extension": ".py",
   "mimetype": "text/x-python",
   "name": "python",
   "nbconvert_exporter": "python",
   "pygments_lexer": "ipython3",
   "version": "3.7.1"
  }
 },
 "nbformat": 4,
 "nbformat_minor": 2
}
