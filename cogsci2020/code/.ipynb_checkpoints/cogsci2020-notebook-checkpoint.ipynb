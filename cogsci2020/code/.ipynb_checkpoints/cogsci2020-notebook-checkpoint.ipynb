{
 "cells": [
  {
   "cell_type": "code",
   "execution_count": 16,
   "metadata": {},
   "outputs": [],
   "source": [
    "import pandas as pd\n",
    "import numpy as np\n",
    "import matplotlib.pyplot as plt\n",
    "\n",
    "\n",
    "# some useful functions\n",
    "def get_birdcounts(ebd_data):\n",
    "\t# read ebird count and name data\n",
    "\tbird_counts = {}\n",
    "\n",
    "\tscience_name = list(ebd_data['SCIENTIFIC NAME'])\n",
    "\n",
    "\ti=0\n",
    "\tfor bird_name in science_name:\n",
    "\t\tif bird_name in bird_counts.keys():\n",
    "\t\t\tbird_counts[bird_name] +=1\n",
    "\t\telse:\n",
    "\t\t\tbird_counts[bird_name] = 1\n",
    "\n",
    "\t\ti+=1\n",
    "\n",
    "\treturn bird_counts"
   ]
  },
  {
   "cell_type": "code",
   "execution_count": 20,
   "metadata": {},
   "outputs": [],
   "source": [
    "# load ebird data\n",
    "ebd_data = pd.read_csv('./data/ebird_MX-OAX_relJul-2019_clean.csv')\n",
    "# get bird counts, index by species name\n",
    "bird_counts = get_birdcounts(ebd_data)\n"
   ]
  },
  {
   "cell_type": "code",
   "execution_count": 21,
   "metadata": {},
   "outputs": [
    {
     "data": {
      "text/html": [
       "<div>\n",
       "<style scoped>\n",
       "    .dataframe tbody tr th:only-of-type {\n",
       "        vertical-align: middle;\n",
       "    }\n",
       "\n",
       "    .dataframe tbody tr th {\n",
       "        vertical-align: top;\n",
       "    }\n",
       "\n",
       "    .dataframe thead th {\n",
       "        text-align: right;\n",
       "    }\n",
       "</style>\n",
       "<table border=\"1\" class=\"dataframe\">\n",
       "  <thead>\n",
       "    <tr style=\"text-align: right;\">\n",
       "      <th></th>\n",
       "      <th>species</th>\n",
       "      <th>length</th>\n",
       "      <th>mass</th>\n",
       "      <th>freq</th>\n",
       "      <th>folk_generic</th>\n",
       "      <th>folk_specific</th>\n",
       "      <th>clements_group</th>\n",
       "      <th>prototype</th>\n",
       "    </tr>\n",
       "  </thead>\n",
       "  <tbody>\n",
       "    <tr>\n",
       "      <th>0</th>\n",
       "      <td>Columba livia</td>\n",
       "      <td>13.5</td>\n",
       "      <td>354.20</td>\n",
       "      <td>2059</td>\n",
       "      <td>pàlôm</td>\n",
       "      <td>pàlôm</td>\n",
       "      <td>Pigeons and Doves</td>\n",
       "      <td>1</td>\n",
       "    </tr>\n",
       "    <tr>\n",
       "      <th>1</th>\n",
       "      <td>Cyanocitta stelleri</td>\n",
       "      <td>11.5</td>\n",
       "      <td>128.00</td>\n",
       "      <td>2121</td>\n",
       "      <td>cuǐl̲</td>\n",
       "      <td>cuǐl̲-guì</td>\n",
       "      <td>Jays, Magpies, Crows, and Ravens</td>\n",
       "      <td>0</td>\n",
       "    </tr>\n",
       "    <tr>\n",
       "      <th>2</th>\n",
       "      <td>Lepidocolaptes leucogaster</td>\n",
       "      <td>9.0</td>\n",
       "      <td>36.00</td>\n",
       "      <td>341</td>\n",
       "      <td>ârbìtrò</td>\n",
       "      <td>ârbìtrò</td>\n",
       "      <td>Woodcreepers</td>\n",
       "      <td>0</td>\n",
       "    </tr>\n",
       "    <tr>\n",
       "      <th>3</th>\n",
       "      <td>Anser anser</td>\n",
       "      <td>32.5</td>\n",
       "      <td>3302.41</td>\n",
       "      <td>0</td>\n",
       "      <td>gâns</td>\n",
       "      <td>gâns</td>\n",
       "      <td>Waterfowl</td>\n",
       "      <td>0</td>\n",
       "    </tr>\n",
       "    <tr>\n",
       "      <th>4</th>\n",
       "      <td>Aimophila ruficeps</td>\n",
       "      <td>6.0</td>\n",
       "      <td>18.69</td>\n",
       "      <td>609</td>\n",
       "      <td>mtsùu</td>\n",
       "      <td>mtsùu</td>\n",
       "      <td>New World Sparrows</td>\n",
       "      <td>0</td>\n",
       "    </tr>\n",
       "  </tbody>\n",
       "</table>\n",
       "</div>"
      ],
      "text/plain": [
       "                      species  length     mass  freq folk_generic  \\\n",
       "0               Columba livia    13.5   354.20  2059        pàlôm   \n",
       "1         Cyanocitta stelleri    11.5   128.00  2121        cuǐl̲   \n",
       "2  Lepidocolaptes leucogaster     9.0    36.00   341      ârbìtrò   \n",
       "3                 Anser anser    32.5  3302.41     0         gâns   \n",
       "4          Aimophila ruficeps     6.0    18.69   609        mtsùu   \n",
       "\n",
       "  folk_specific                    clements_group  prototype  \n",
       "0         pàlôm                 Pigeons and Doves          1  \n",
       "1     cuǐl̲-guì  Jays, Magpies, Crows, and Ravens          0  \n",
       "2       ârbìtrò                      Woodcreepers          0  \n",
       "3          gâns                         Waterfowl          0  \n",
       "4         mtsùu                New World Sparrows          0  "
      ]
     },
     "execution_count": 21,
     "metadata": {},
     "output_type": "execute_result"
    }
   ],
   "source": [
    "df = pd.read_csv('./data/df_zapotec.csv')\n",
    "df.head()"
   ]
  },
  {
   "cell_type": "markdown",
   "metadata": {},
   "source": [
    "## What species are given a name?"
   ]
  },
  {
   "cell_type": "code",
   "execution_count": 19,
   "metadata": {},
   "outputs": [
    {
     "data": {
      "text/plain": [
       "Text(0, 0.5, 'Log frequency of occurence')"
      ]
     },
     "execution_count": 19,
     "metadata": {},
     "output_type": "execute_result"
    },
    {
     "data": {
      "image/png": "[encoded data removed]",
      "text/plain": [
       "<Figure size 432x288 with 1 Axes>"
      ]
     },
     "metadata": {
      "needs_background": "light"
     },
     "output_type": "display_data"
    }
   ],
   "source": [
    "# violin plot (with log frequency of occurrence)\n",
    "\n",
    "bird_list = list(df['species']) \n",
    "freqs = list(df['freq'])\n",
    "\n",
    "data_zapotec = [np.log(i) for i in freqs if i >0]\n",
    "data_all = [np.log(i) for i in bird_counts.values()]\n",
    "\n",
    "missing_data = []\n",
    "for birdcount in bird_counts.keys():\n",
    "\tif birdcount not in bird_list:\n",
    "\t\tmissing_data.append(np.log(bird_counts[birdcount]))\n",
    "\n",
    "pos = [1,2,3]\n",
    "plotnames = ('Zapotec','Missing','All OAX')\n",
    "plt.figure()\n",
    "plt.violinplot([data_zapotec,missing_data,data_all],pos) \n",
    "plt.title('Frequency densities of Zapotec')\n",
    "plt.xticks(pos,plotnames)\n",
    "plt.ylabel('Log frequency of occurence')"
   ]
  },
  {
   "cell_type": "code",
   "execution_count": null,
   "metadata": {},
   "outputs": [],
   "source": []
  }
 ],
 "metadata": {
  "kernelspec": {
   "display_name": "Python 3",
   "language": "python",
   "name": "python3"
  },
  "language_info": {
   "codemirror_mode": {
    "name": "ipython",
    "version": 3
   },
   "file_extension": ".py",
   "mimetype": "text/x-python",
   "name": "python",
   "nbconvert_exporter": "python",
   "pygments_lexer": "ipython3",
   "version": "3.7.1"
  }
 },
 "nbformat": 4,
 "nbformat_minor": 2
}
