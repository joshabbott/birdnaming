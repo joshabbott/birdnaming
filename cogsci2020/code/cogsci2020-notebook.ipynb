{
 "cells": [
  {
   "cell_type": "code",
   "execution_count": 6,
   "metadata": {},
   "outputs": [],
   "source": [
    "import pandas as pd\n",
    "import numpy as np\n",
    "import matplotlib.pyplot as plt\n",
    "\n",
    "\n",
    "# some useful functions\n",
    "def get_birdcounts(ebd_data):\n",
    "\t# read ebird count and name data\n",
    "\tbird_counts = {}\n",
    "\n",
    "\tscience_name = list(ebd_data['SCIENTIFIC NAME'])\n",
    "\n",
    "\ti=0\n",
    "\tfor bird_name in science_name:\n",
    "\t\tif bird_name in bird_counts.keys():\n",
    "\t\t\tbird_counts[bird_name] +=1\n",
    "\t\telse:\n",
    "\t\t\tbird_counts[bird_name] = 1\n",
    "\n",
    "\t\ti+=1\n",
    "\n",
    "\treturn bird_counts\n",
    "\n",
    "def get_basiclevel(zapotec_data):\n",
    "\tbird_sci2basic_names = {}\n",
    "\n",
    "\tbasic_name = list(zapotec_data['folk_generic'])\n",
    "\tscience_name = list(zapotec_data['species'])\n",
    "\n",
    "\ti=0\n",
    "\tfor bird_name in science_name:\n",
    "\t\tbird_sci2basic_names[bird_name] = basic_name[i]\n",
    "\t\ti+=1\n",
    "\n",
    "\treturn bird_sci2basic_names"
   ]
  },
  {
   "cell_type": "code",
   "execution_count": 7,
   "metadata": {},
   "outputs": [],
   "source": [
    "# load ebird data\n",
    "ebd_data = pd.read_csv('./data/ebird_MX-OAX_cogsci_clean.csv')\n",
    "# get bird counts, index by species name\n",
    "bird_counts = get_birdcounts(ebd_data)\n"
   ]
  },
  {
   "cell_type": "code",
   "execution_count": 8,
   "metadata": {},
   "outputs": [
    {
     "data": {
      "text/html": [
       "<div>\n",
       "<style scoped>\n",
       "    .dataframe tbody tr th:only-of-type {\n",
       "        vertical-align: middle;\n",
       "    }\n",
       "\n",
       "    .dataframe tbody tr th {\n",
       "        vertical-align: top;\n",
       "    }\n",
       "\n",
       "    .dataframe thead th {\n",
       "        text-align: right;\n",
       "    }\n",
       "</style>\n",
       "<table border=\"1\" class=\"dataframe\">\n",
       "  <thead>\n",
       "    <tr style=\"text-align: right;\">\n",
       "      <th></th>\n",
       "      <th>species</th>\n",
       "      <th>length</th>\n",
       "      <th>mass</th>\n",
       "      <th>freq</th>\n",
       "      <th>folk_generic</th>\n",
       "      <th>folk_specific</th>\n",
       "      <th>clements_group</th>\n",
       "      <th>prototype</th>\n",
       "    </tr>\n",
       "  </thead>\n",
       "  <tbody>\n",
       "    <tr>\n",
       "      <th>0</th>\n",
       "      <td>Catherpes mexicanus</td>\n",
       "      <td>5.00</td>\n",
       "      <td>11.97</td>\n",
       "      <td>2327</td>\n",
       "      <td>nguzhǐn</td>\n",
       "      <td>nguzhǐn-zhàn̲-quiè</td>\n",
       "      <td>Wrens</td>\n",
       "      <td>0</td>\n",
       "    </tr>\n",
       "    <tr>\n",
       "      <th>1</th>\n",
       "      <td>Cynanthus sordidus</td>\n",
       "      <td>3.75</td>\n",
       "      <td>4.00</td>\n",
       "      <td>4751</td>\n",
       "      <td>dzǐn̲g</td>\n",
       "      <td>dzǐn̲g</td>\n",
       "      <td>Hummingbirds</td>\n",
       "      <td>0</td>\n",
       "    </tr>\n",
       "    <tr>\n",
       "      <th>2</th>\n",
       "      <td>Buteo brachyurus</td>\n",
       "      <td>16.00</td>\n",
       "      <td>496.01</td>\n",
       "      <td>1314</td>\n",
       "      <td>msì</td>\n",
       "      <td>msì</td>\n",
       "      <td>Vultures, Hawks, and Allies</td>\n",
       "      <td>0</td>\n",
       "    </tr>\n",
       "    <tr>\n",
       "      <th>3</th>\n",
       "      <td>Accipiter cooperii</td>\n",
       "      <td>17.50</td>\n",
       "      <td>429.67</td>\n",
       "      <td>1551</td>\n",
       "      <td>msì</td>\n",
       "      <td>msì-lâg</td>\n",
       "      <td>Vultures, Hawks, and Allies</td>\n",
       "      <td>0</td>\n",
       "    </tr>\n",
       "    <tr>\n",
       "      <th>4</th>\n",
       "      <td>Caracara plancus</td>\n",
       "      <td>49.50</td>\n",
       "      <td>1078.62</td>\n",
       "      <td>0</td>\n",
       "      <td>mguîn̲-rlæ̌-dzìt</td>\n",
       "      <td>mguîn̲-rlæ̌-dzìt</td>\n",
       "      <td>Falcons and Caracaras</td>\n",
       "      <td>0</td>\n",
       "    </tr>\n",
       "  </tbody>\n",
       "</table>\n",
       "</div>"
      ],
      "text/plain": [
       "               species  length     mass  freq      folk_generic  \\\n",
       "0  Catherpes mexicanus    5.00    11.97  2327           nguzhǐn   \n",
       "1   Cynanthus sordidus    3.75     4.00  4751            dzǐn̲g   \n",
       "2     Buteo brachyurus   16.00   496.01  1314               msì   \n",
       "3   Accipiter cooperii   17.50   429.67  1551               msì   \n",
       "4     Caracara plancus   49.50  1078.62     0  mguîn̲-rlæ̌-dzìt   \n",
       "\n",
       "        folk_specific               clements_group  prototype  \n",
       "0  nguzhǐn-zhàn̲-quiè                        Wrens          0  \n",
       "1              dzǐn̲g                 Hummingbirds          0  \n",
       "2                 msì  Vultures, Hawks, and Allies          0  \n",
       "3             msì-lâg  Vultures, Hawks, and Allies          0  \n",
       "4    mguîn̲-rlæ̌-dzìt        Falcons and Caracaras          0  "
      ]
     },
     "execution_count": 8,
     "metadata": {},
     "output_type": "execute_result"
    }
   ],
   "source": [
    "df = pd.read_csv('./data/df_zapotec.csv')\n",
    "df.head()"
   ]
  },
  {
   "cell_type": "markdown",
   "metadata": {},
   "source": [
    "## What species are given a name?"
   ]
  },
  {
   "cell_type": "code",
   "execution_count": 9,
   "metadata": {},
   "outputs": [
    {
     "data": {
      "text/plain": [
       "Text(0, 0.5, 'Log frequency of occurence')"
      ]
     },
     "execution_count": 9,
     "metadata": {},
     "output_type": "execute_result"
    },
    {
     "data": {
      "image/png": "[encoded data removed]",
      "text/plain": [
       "<Figure size 432x288 with 1 Axes>"
      ]
     },
     "metadata": {
      "needs_background": "light"
     },
     "output_type": "display_data"
    }
   ],
   "source": [
    "# violin plot (with log frequency of occurrence)\n",
    "\n",
    "bird_list = list(df['species']) \n",
    "freqs = list(df['freq'])\n",
    "\n",
    "data_zapotec = [np.log(i) for i in freqs if i >0]\n",
    "data_all = [np.log(i) for i in bird_counts.values()]\n",
    "\n",
    "missing_data = []\n",
    "for birdcount in bird_counts.keys():\n",
    "\tif birdcount not in bird_list:\n",
    "\t\tmissing_data.append(np.log(bird_counts[birdcount]))\n",
    "\n",
    "pos = [1,2,3]\n",
    "plotnames = ('Zapotec','Missing','All OAX')\n",
    "plt.figure()\n",
    "plt.violinplot([data_zapotec,missing_data,data_all],pos) \n",
    "plt.title('Frequency densities of Zapotec')\n",
    "plt.xticks(pos,plotnames)\n",
    "plt.ylabel('Log frequency of occurence')"
   ]
  },
  {
   "cell_type": "code",
   "execution_count": 10,
   "metadata": {},
   "outputs": [
    {
     "data": {
      "text/plain": [
       "Text(0, 0.5, 'Log mass')"
      ]
     },
     "execution_count": 10,
     "metadata": {},
     "output_type": "execute_result"
    },
    {
     "data": {
      "image/png": "[encoded data removed]",
      "text/plain": [
       "<Figure size 432x288 with 1 Axes>"
      ]
     },
     "metadata": {
      "needs_background": "light"
     },
     "output_type": "display_data"
    }
   ],
   "source": [
    "# make the same plot but with bird masses\n",
    "def get_birdmass(bird_name,bird_mass_df):\n",
    "\ttry:\n",
    "\t\tmass = float(bird_mass_df['BodyMass-Value'][bird_mass_df['Scientific'] == bird_name]) \n",
    "\texcept:\n",
    "\t\tmass = 0\n",
    "\treturn mass\n",
    "\n",
    "bigbirddata_data = pd.read_csv('./data/BirdFuncDat.txt',sep='\\t',encoding = \"ISO-8859-1\")\n",
    "bird_mass_df = bigbirddata_data[['BodyMass-Value','Scientific']]\n",
    "\n",
    "\n",
    "basic_levels = get_basiclevel(df)\n",
    "\n",
    "\n",
    "zapotec_masses = {}\n",
    "for zapotec_bird in basic_levels.keys():\n",
    "\tmass = get_birdmass(zapotec_bird,bird_mass_df)\n",
    "\tif mass > 0:\n",
    "\t\tzapotec_masses[zapotec_bird] = mass\n",
    "\n",
    "oax_masses = {}\n",
    "for oax_bird in bird_counts.keys():\n",
    "\tmass = get_birdmass(oax_bird,bird_mass_df)\n",
    "\tif mass > 0:\n",
    "\t\toax_masses[oax_bird] = mass\n",
    "        \n",
    "        \n",
    "data_zapotec = [np.log(i) for i in zapotec_masses.values()]\n",
    "data_all = [np.log(i) for i in oax_masses.values()]\n",
    "\n",
    "missing_data = []\n",
    "for birdmass in oax_masses.keys():\n",
    "\tif birdmass not in zapotec_masses.keys():\n",
    "\t\tmissing_data.append(np.log(oax_masses[birdmass]))\n",
    "\n",
    "pos = [1,2,3]\n",
    "plotnames = ('Zapotec','Missing','All OAX')\n",
    "plt.figure()\n",
    "plt.violinplot([data_zapotec,missing_data,data_all],pos) \n",
    "plt.title('Mass densities of Zapotec')\n",
    "plt.xticks(pos,plotnames)\n",
    "plt.ylabel('Log mass')"
   ]
  },
  {
   "cell_type": "code",
   "execution_count": null,
   "metadata": {},
   "outputs": [],
   "source": []
  }
 ],
 "metadata": {
  "kernelspec": {
   "display_name": "Python 3",
   "language": "python",
   "name": "python3"
  },
  "language_info": {
   "codemirror_mode": {
    "name": "ipython",
    "version": 3
   },
   "file_extension": ".py",
   "mimetype": "text/x-python",
   "name": "python",
   "nbconvert_exporter": "python",
   "pygments_lexer": "ipython3",
   "version": "3.6.9"
  }
 },
 "nbformat": 4,
 "nbformat_minor": 2
}
